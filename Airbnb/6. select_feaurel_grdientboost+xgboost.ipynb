{
 "cells": [
  {
   "cell_type": "markdown",
   "metadata": {},
   "source": [
    "# select feature："
   ]
  },
  {
   "cell_type": "code",
   "execution_count": 1,
   "metadata": {},
   "outputs": [
    {
     "name": "stderr",
     "output_type": "stream",
     "text": [
      "Using TensorFlow backend.\n"
     ]
    }
   ],
   "source": [
    "import numpy as np\n",
    "import pandas as pd \n",
    "import matplotlib.pyplot as plt\n",
    "import seaborn as sns\n",
    "\n",
    "from scipy.stats import boxcox\n",
    "from scipy.stats import skew\n",
    "from scipy.stats import randint\n",
    "from scipy.stats import uniform\n",
    "\n",
    "from xgboost import XGBClassifier\n",
    "from xgboost import XGBClassifier\n",
    "from sklearn.ensemble import GradientBoostingClassifier\n",
    "\n",
    "\n",
    "\n",
    "from sklearn.linear_model import Lasso, ElasticNet, Ridge\n",
    "from sklearn.kernel_ridge import KernelRidge\n",
    "from sklearn.model_selection import GridSearchCV, RandomizedSearchCV, cross_val_score, train_test_split\n",
    "from sklearn.feature_selection import RFECV\n",
    "from sklearn.preprocessing import StandardScaler, RobustScaler\n",
    "from sklearn.metrics import make_scorer \n",
    "from sklearn.base import BaseEstimator, RegressorMixin\n",
    "\n",
    "# neural networks\n",
    "import keras\n",
    "from keras.models import Sequential\n",
    "from keras.layers import Dense\n",
    "from keras import regularizers\n",
    "\n",
    "# ignore Deprecation Warning\n",
    "import warnings\n",
    "warnings.filterwarnings(\"ignore\", category=DeprecationWarning) "
   ]
  },
  {
   "cell_type": "code",
   "execution_count": 2,
   "metadata": {},
   "outputs": [],
   "source": [
    "# load the data\n",
    "df_trainXY= pd.read_csv('Train_XY_AllNumeric_4.26.csv', index_col=None)"
   ]
  },
  {
   "cell_type": "code",
   "execution_count": 3,
   "metadata": {},
   "outputs": [],
   "source": [
    "X = df_trainXY.iloc[ : , 1:]\n",
    "y = df_trainXY.iloc[ : , 0]"
   ]
  },
  {
   "cell_type": "markdown",
   "metadata": {},
   "source": [
    "## XGBoost"
   ]
  },
  {
   "cell_type": "code",
   "execution_count": null,
   "metadata": {},
   "outputs": [],
   "source": [
    "xgb = XGBClassifier(base_score=0.5, colsample_bylevel=1, colsample_bytree=1,\n",
    "       gamma=0, learning_rate=0.2, max_delta_step=0, max_depth=4,\n",
    "       min_child_weight=1, missing=None, n_estimators=3000, nthread=3,\n",
    "       objective='binary:logistic', reg_alpha=0, reg_lambda=1,\n",
    "       scale_pos_weight=1, seed=0, silent=True, subsample=1)\n",
    "xgb.fit(X, y)\n",
    "imp = pd.DataFrame(xgb.feature_importances_ ,columns = ['Importance'],index = X.columns)\n",
    "imp = imp.sort_values(['Importance'], ascending = False)\n",
    "\n",
    "print(imp)"
   ]
  },
  {
   "cell_type": "markdown",
   "metadata": {},
   "source": [
    "## GradientBoosting"
   ]
  },
  {
   "cell_type": "code",
   "execution_count": 4,
   "metadata": {},
   "outputs": [
    {
     "name": "stdout",
     "output_type": "stream",
     "text": [
      "                                     Importance\n",
      "first_review                       6.133580e-02\n",
      "latitude                           5.626515e-02\n",
      "longitude                          5.023954e-02\n",
      "host_since                         4.474989e-02\n",
      "availability_365                   4.038267e-02\n",
      "price                              3.837835e-02\n",
      "availability_90                    3.404949e-02\n",
      "availability_30                    3.150157e-02\n",
      "availability_60                    3.122780e-02\n",
      "cleaning_fee                       2.778468e-02\n",
      "maximum_nights                     2.133580e-02\n",
      "extra_people                       1.707271e-02\n",
      "host_total_listings_count          1.687634e-02\n",
      "minimum_nights                     1.642128e-02\n",
      "host_listings_count                1.594683e-02\n",
      "host_response_rate                 1.475804e-02\n",
      "accommodates                       1.398749e-02\n",
      "guests_included                    1.230390e-02\n",
      "bedrooms                           1.017654e-02\n",
      "beds                               1.017438e-02\n",
      "host_is_superhost_t                8.033379e-03\n",
      "bathrooms                          7.911869e-03\n",
      "instant_bookable_t                 6.860825e-03\n",
      "host_response_time_within an hour  6.713320e-03\n",
      "room_type_Private room             5.415619e-03\n",
      "washer                             5.357790e-03\n",
      "lockbox                            5.252365e-03\n",
      "lock on bedroom door               4.795333e-03\n",
      "cancellation_policy_strict         4.585005e-03\n",
      "24-hour check-in                   4.566587e-03\n",
      "...                                         ...\n",
      "breakfast table                    2.581526e-06\n",
      "standing valet                     1.734233e-06\n",
      "wine cooler                        1.607482e-06\n",
      "high-resolution computer monitor   1.142396e-06\n",
      "terrace                            9.545303e-07\n",
      "warming drawer                     5.954514e-07\n",
      "double oven                        5.461302e-07\n",
      "zhima_selfie                       1.575039e-07\n",
      "heated floors                      6.176527e-09\n",
      "amazon echo                        2.156387e-11\n",
      "central air conditioning           0.000000e+00\n",
      "other pet(s)                       0.000000e+00\n",
      "fire pit                           0.000000e+00\n",
      "fax machine                        0.000000e+00\n",
      "private hot tub                    0.000000e+00\n",
      "property_type_lighthouse           0.000000e+00\n",
      "city_name_Hacienda Heights         0.000000e+00\n",
      "tennis court                       0.000000e+00\n",
      "property_type_nature lodge         0.000000e+00\n",
      "beach view                         0.000000e+00\n",
      "shared gym                         0.000000e+00\n",
      "shared hot tub                     0.000000e+00\n",
      "cat(s)                             0.000000e+00\n",
      "property_type_barn                 0.000000e+00\n",
      "dog(s)                             0.000000e+00\n",
      "jetted tub                         0.000000e+00\n",
      "heated towel rack                  0.000000e+00\n",
      "touchless faucets                  0.000000e+00\n",
      "stand alone steam shower           0.000000e+00\n",
      "shared pool                        0.000000e+00\n",
      "\n",
      "[310 rows x 1 columns]\n"
     ]
    }
   ],
   "source": [
    "gbm = GradientBoostingClassifier(learning_rate=0.15, n_estimators=1500,max_depth=6, min_samples_split=2, min_samples_leaf=1, subsample=1,max_features='sqrt', random_state=10)\n",
    "gbm.fit(X, y)\n",
    "imp = pd.DataFrame(gbm.feature_importances_ ,columns = ['Importance'],index = X.columns)\n",
    "imp = imp.sort_values(['Importance'], ascending = False)\n",
    "\n",
    "print(imp)"
   ]
  },
  {
   "cell_type": "code",
   "execution_count": null,
   "metadata": {},
   "outputs": [],
   "source": []
  }
 ],
 "metadata": {
  "kernelspec": {
   "display_name": "Python 3",
   "language": "python",
   "name": "python3"
  },
  "language_info": {
   "codemirror_mode": {
    "name": "ipython",
    "version": 3
   },
   "file_extension": ".py",
   "mimetype": "text/x-python",
   "name": "python",
   "nbconvert_exporter": "python",
   "pygments_lexer": "ipython3",
   "version": "3.6.3"
  }
 },
 "nbformat": 4,
 "nbformat_minor": 2
}
